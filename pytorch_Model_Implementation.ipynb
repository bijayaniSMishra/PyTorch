{
 "cells": [
  {
   "cell_type": "code",
   "execution_count": 12,
   "id": "d3b25089",
   "metadata": {},
   "outputs": [],
   "source": [
    "import torch\n",
    "import torch.nn as nn"
   ]
  },
  {
   "cell_type": "markdown",
   "id": "784b48d3",
   "metadata": {},
   "source": [
    "# BackPropagation with Manual model"
   ]
  },
  {
   "cell_type": "code",
   "execution_count": 49,
   "id": "79062c98",
   "metadata": {},
   "outputs": [],
   "source": [
    "def forward(X):\n",
    "    return w * X"
   ]
  },
  {
   "cell_type": "code",
   "execution_count": 82,
   "id": "6a3a4661",
   "metadata": {},
   "outputs": [
    {
     "name": "stdout",
     "output_type": "stream",
     "text": [
      "Prediction after training: f(5) = 0.000\n",
      "epoch 1: w = 0.300, loss = 30.00000000\n",
      "epoch 11: w = 1.665, loss = 1.16278565\n",
      "epoch 21: w = 1.934, loss = 0.04506890\n",
      "epoch 31: w = 1.987, loss = 0.00174685\n",
      "epoch 41: w = 1.997, loss = 0.00006770\n",
      "epoch 51: w = 1.999, loss = 0.00000262\n",
      "epoch 61: w = 2.000, loss = 0.00000010\n",
      "Prediction after training: f(5) = 10.000\n"
     ]
    }
   ],
   "source": [
    "X = torch.tensor([1,2,3,4], dtype = torch.float32)\n",
    "Y = torch.tensor([2,4,6,8], dtype = torch.float32)\n",
    "w = torch.tensor(0.0, dtype = torch.float32, requires_grad = True)\n",
    "\n",
    "loss = nn.MSELoss() #loss is callable function that takes actual y and y_pred\n",
    "optimizer = torch.optim.SGD([w], lr = 0.01)\n",
    "\n",
    "print(f'Prediction after training: f(5) = {forward(5):.3f}')\n",
    "\n",
    "n_iters = 70\n",
    "for epoch in range(n_iters):\n",
    "    #forward pass\n",
    "    y_pred = forward(X)\n",
    "    \n",
    "    #loss\n",
    "    l = loss(Y, y_pred)\n",
    "    \n",
    "    l.backward() #dl/dw\n",
    "    \n",
    "    optimizer.step()\n",
    "    optimizer.zero_grad()\n",
    "    \n",
    "    if epoch %10 ==0:\n",
    "        print(f'epoch {epoch+1}: w = {w:.3f}, loss = {l:.8f}')\n",
    "\n",
    "print(f'Prediction after training: f(5) = {forward(5):.3f}')\n"
   ]
  },
  {
   "cell_type": "markdown",
   "id": "0d08f274",
   "metadata": {},
   "source": [
    "# BackPropagation with Given Linear model"
   ]
  },
  {
   "cell_type": "code",
   "execution_count": 81,
   "id": "b81b9692",
   "metadata": {},
   "outputs": [
    {
     "name": "stdout",
     "output_type": "stream",
     "text": [
      "Prediction after training: f(5) = -1.629\n",
      "epoch 1: w = 0.053, loss = 41.20504761\n",
      "epoch 11: w = 1.653, loss = 1.60001564\n",
      "epoch 21: w = 1.968, loss = 0.06494226\n",
      "epoch 31: w = 2.030, loss = 0.00544364\n",
      "epoch 41: w = 2.042, loss = 0.00313748\n",
      "epoch 51: w = 2.044, loss = 0.00304810\n",
      "epoch 61: w = 2.045, loss = 0.00304462\n",
      "epoch 71: w = 2.045, loss = 0.00304450\n",
      "epoch 81: w = 2.045, loss = 0.00304448\n",
      "epoch 91: w = 2.045, loss = 0.00304448\n",
      "Prediction after training: f(5) = 10.090\n"
     ]
    }
   ],
   "source": [
    "X = torch.tensor([[1],[2],[3],[4]], dtype = torch.float32)\n",
    "Y = torch.tensor([[2],[4],[6],[8]], dtype = torch.float32)\n",
    "X_tst = torch.tensor([5], dtype = torch.float32)\n",
    "n_samples , n_features = X.shape\n",
    "\n",
    "input_size = n_features\n",
    "output_size = n_features\n",
    "model = nn.Linear(input_size, output_size)\n",
    "loss = nn.MSELoss() #loss is callable function that takes actual y and y_pred\n",
    "[w,b] = model.parameters()\n",
    "\n",
    "optimizer = torch.optim.SGD([w], lr = 0.01)\n",
    "\n",
    "print(f'Prediction after training: f(5) = {model(X_tst).item():.3f}')\n",
    "\n",
    "n_iters = 100\n",
    "for epoch in range(n_iters):\n",
    "    #forward pass\n",
    "    y_pred = model(X)\n",
    "    \n",
    "    #loss\n",
    "    l = loss(Y, y_pred)\n",
    "    \n",
    "    l.backward() #dl/dw\n",
    "    \n",
    "    optimizer.step()\n",
    "    optimizer.zero_grad()\n",
    "    \n",
    "    if epoch %10 ==0:\n",
    "        [w,b] = model.parameters()\n",
    "        print(f'epoch {epoch+1}: w = {w[0][0].item():.3f}, loss = {l:.8f}')\n",
    "\n",
    "print(f'Prediction after training: f(5) = {model(X_tst).item():.3f}')\n"
   ]
  },
  {
   "cell_type": "markdown",
   "id": "49fe7fe1",
   "metadata": {},
   "source": [
    "# BackPropagation with customized model"
   ]
  },
  {
   "cell_type": "code",
   "execution_count": 85,
   "id": "d6279eca",
   "metadata": {},
   "outputs": [
    {
     "name": "stdout",
     "output_type": "stream",
     "text": [
      "Prediction after training: f(5) = -2.685\n",
      "epoch 1: w = 0.029, loss = 52.75207520\n",
      "epoch 11: w = 1.837, loss = 2.15796804\n",
      "epoch 21: w = 2.193, loss = 0.19696471\n",
      "epoch 31: w = 2.263, loss = 0.12095674\n",
      "epoch 41: w = 2.277, loss = 0.11801069\n",
      "epoch 51: w = 2.280, loss = 0.11789653\n",
      "epoch 61: w = 2.280, loss = 0.11789210\n",
      "epoch 71: w = 2.280, loss = 0.11789192\n",
      "epoch 81: w = 2.280, loss = 0.11789192\n",
      "epoch 91: w = 2.280, loss = 0.11789192\n",
      "Prediction after training: f(5) = 10.561\n"
     ]
    }
   ],
   "source": [
    "X = torch.tensor([[1],[2],[3],[4]], dtype = torch.float32)\n",
    "Y = torch.tensor([[2],[4],[6],[8]], dtype = torch.float32)\n",
    "X_tst = torch.tensor([5], dtype = torch.float32)\n",
    "n_samples , n_features = X.shape\n",
    "\n",
    "input_size = n_features\n",
    "output_size = n_features\n",
    "\n",
    "class LinearRegression(nn.Module):\n",
    "    \n",
    "    def __init__(self, input_dim, output_dim):\n",
    "        super(LinearRegression, self).__init__()\n",
    "        \n",
    "        #defineLayers\n",
    "        self.lin = nn.Linear(input_dim, output_dim)\n",
    "        \n",
    "    def forward(self, x):\n",
    "        return self.lin(x)\n",
    "\n",
    "model = LinearRegression(input_size, output_size)\n",
    "        \n",
    "loss = nn.MSELoss() #loss is callable function that takes actual y and y_pred\n",
    "[w,b] = model.parameters()\n",
    "\n",
    "optimizer = torch.optim.SGD([w], lr = 0.01)\n",
    "\n",
    "print(f'Prediction after training: f(5) = {model(X_tst).item():.3f}')\n",
    "\n",
    "n_iters = 100\n",
    "for epoch in range(n_iters):\n",
    "    #forward pass\n",
    "    y_pred = model(X)\n",
    "    \n",
    "    #loss\n",
    "    l = loss(Y, y_pred)\n",
    "    \n",
    "    l.backward() #dl/dw\n",
    "    \n",
    "    optimizer.step()\n",
    "    optimizer.zero_grad()\n",
    "    \n",
    "    if epoch %10 ==0:\n",
    "        [w,b] = model.parameters()\n",
    "        print(f'epoch {epoch+1}: w = {w[0][0].item():.3f}, loss = {l:.8f}')\n",
    "\n",
    "print(f'Prediction after training: f(5) = {model(X_tst).item():.3f}')\n"
   ]
  },
  {
   "cell_type": "markdown",
   "id": "62ec644f",
   "metadata": {},
   "source": [
    "# Linear Regression Implementation \n",
    "1. Design Model (input, output size, forward pass)\n",
    "2. Construct Loss and optimizer \n",
    "3. Training Loop\n",
    "    - Forward pass - Compute prediction and loss\n",
    "    - backward pass - gradients\n",
    "    - update Weights"
   ]
  },
  {
   "cell_type": "code",
   "execution_count": 162,
   "id": "304cf2dd",
   "metadata": {},
   "outputs": [
    {
     "name": "stdout",
     "output_type": "stream",
     "text": [
      "epoch: 100, loss = 565.9858\n",
      "epoch: 200, loss = 342.6893\n",
      "epoch: 300, loss = 333.0146\n",
      "epoch: 400, loss = 332.5874\n"
     ]
    },
    {
     "data": {
      "image/png": "[encoded data removed]",
      "text/plain": [
       "<Figure size 432x288 with 1 Axes>"
      ]
     },
     "metadata": {
      "needs_background": "light"
     },
     "output_type": "display_data"
    }
   ],
   "source": [
    "import torch\n",
    "import torch.nn as nn\n",
    "import numpy as np\n",
    "from sklearn import datasets\n",
    "import matplotlib.pyplot as plt\n",
    "\n",
    "\n",
    "#0 Prepared data \n",
    "\n",
    "x_numpy, y_numpy = datasets.make_regression(n_samples = 100, n_features =1, noise =20, random_state = 1)\n",
    "#convert to torch tensor\n",
    "\n",
    "x = torch.from_numpy(x_numpy.astype(np.float32))\n",
    "y = torch.from_numpy(y_numpy.astype(np.float32))\n",
    "\n",
    "#converting y to column vector as output \n",
    "\n",
    "y = y.view(y.shape[0], 1) #(y.shape[0] - will get all the values from the row,  1 - mentioning the no. of columns as 1 \n",
    "\n",
    "n_sample, n_feature = x.shape\n",
    "#1. model\n",
    "\n",
    "input_size = n_feature\n",
    "output_size = 1 #we need one output for sample we put in\n",
    "model  = nn.Linear(input_size, output_size)\n",
    "\n",
    "\n",
    "#2. loss and optimizer\n",
    "criterion = nn.MSELoss() # criterion will be. callable function\n",
    "optimizer = torch.optim.SGD(model.parameters(), lr = 0.01) \n",
    "\n",
    "\n",
    "#3. Training loop \n",
    "\n",
    "num_epochs = 400\n",
    "\n",
    "for epoch in range(num_epochs):\n",
    "    #forword Pass\n",
    "    y_pred = model(x)\n",
    "    \n",
    "    #loss\n",
    "    loss = criterion(y_pred, y)\n",
    "    \n",
    "    #backward pass\n",
    "    loss.backward()\n",
    "    \n",
    "    #updates  the Weight\n",
    "    optimizer.step()\n",
    "    \n",
    "    #Resetting gradient \n",
    "    optimizer.zero_grad()\n",
    "    \n",
    "    if (epoch +1)%100  == 0:\n",
    "        print(f'epoch: {epoch+1}, loss = {loss.item():.4f}')\n",
    "        \n",
    "#plot\n",
    "predicted = model(x).detach().numpy()   # detech will help creating a new tensor with all the requires_grad as False\n",
    "# then covertinh values to numpy array \n",
    "\n",
    "plt.plot(x_numpy, y_numpy,'ro')\n",
    "\n",
    "plt.plot(x_numpy, predicted, 'bo')\n",
    "\n",
    "plt.show()"
   ]
  },
  {
   "cell_type": "code",
   "execution_count": 139,
   "id": "4e75cce2",
   "metadata": {},
   "outputs": [
    {
     "name": "stdout",
     "output_type": "stream",
     "text": [
      "<generator object Module.parameters at 0x13eec9e40>\n"
     ]
    }
   ],
   "source": [
    "print(model.parameters())"
   ]
  },
  {
   "cell_type": "markdown",
   "id": "2665ae69",
   "metadata": {},
   "source": [
    "# Logistic Regression - Breast Cancer Dataset"
   ]
  },
  {
   "cell_type": "code",
   "execution_count": 175,
   "id": "a00bed18",
   "metadata": {},
   "outputs": [
    {
     "name": "stdout",
     "output_type": "stream",
     "text": [
      "epoch: 10, loss = 0.4529\n",
      "epoch: 20, loss = 0.4010\n",
      "epoch: 30, loss = 0.3634\n",
      "epoch: 40, loss = 0.3347\n",
      "epoch: 50, loss = 0.3120\n",
      "epoch: 60, loss = 0.2934\n",
      "epoch: 70, loss = 0.2779\n",
      "epoch: 80, loss = 0.2647\n",
      "epoch: 90, loss = 0.2533\n",
      "epoch: 100, loss = 0.2434\n",
      "acc:  0.9649\n"
     ]
    }
   ],
   "source": [
    "import torch \n",
    "import torch.nn as nn\n",
    "import numpy as np\n",
    "from sklearn  import datasets\n",
    "from sklearn.preprocessing import StandardScaler as ss\n",
    "from sklearn.model_selection import train_test_split\n",
    "\n",
    "\n",
    "# Data Preparation\n",
    "bc = datasets.load_breast_cancer()\n",
    "x, y  = bc.data, bc.target\n",
    "\n",
    "n_sample, n_features = x.shape\n",
    "\n",
    "#splitting Data\n",
    "x_train,x_test, y_train, y_test =  train_test_split(x, y , test_size = 0.2, random_state = 123)\n",
    "\n",
    "#Standardize the data -> results data to have zero mean -> recommended for logistic data\n",
    "sc = ss()\n",
    "x_train = sc.fit_transform(x_train)\n",
    "x_test = sc.transform(x_test)\n",
    "\n",
    "x_train = torch.from_numpy(x_train.astype(np.float32()))\n",
    "x_test = torch.from_numpy(x_test.astype(np.float32()))\n",
    "y_train = torch.from_numpy(y_train.astype(np.float32()))\n",
    "y_test = torch.from_numpy(y_test.astype(np.float32()))\n",
    "\n",
    "#Reshape y_train and y_test\n",
    "\n",
    "y_train = y_train.view(y_train.shape[0],1)\n",
    "y_test = y_test.view(y_test.shape[0],1)\n",
    "\n",
    "# model\n",
    "# f =wx+b => for logictic regression forward is combination of weight and bias and at the end we add a sigmoid funcn\n",
    "\n",
    "class LogisticRegression(nn.Module):\n",
    "    def  __init__(self, n_input_feature):\n",
    "        super(LogisticRegression, self).__init__()\n",
    "        self.linear = nn.Linear(n_input_feature, 1) # 30 as input features and one output is required\n",
    "        \n",
    "    def forward(self, x):\n",
    "        y_pred = torch.sigmoid(self.linear(x))\n",
    "        return y_pred\n",
    "    \n",
    "\n",
    "model = LogisticRegression(n_features)\n",
    "\n",
    "\n",
    "#loss and optimizer\n",
    "\n",
    "criterion = nn.BCELoss() #BinaryCrossEntrophy loss\n",
    "optimizer =torch.optim.SGD(model.parameters(), lr = 0.01)\n",
    "\n",
    "# Trining \n",
    "num_epochs =100\n",
    "\n",
    "for epoch in range(num_epochs): \n",
    "    #forward\n",
    "    y_pred = model(x_train)\n",
    "    \n",
    "    #loss\n",
    "    loss = criterion (y_pred, y_train)\n",
    "    \n",
    "    #backward \n",
    "    loss.backward()\n",
    "    \n",
    "    #update Weights\n",
    "    optimizer.step()\n",
    "    \n",
    "    optimizer.zero_grad()\n",
    "    \n",
    "    if (epoch +1)%10  == 0:\n",
    "        print(f'epoch: {epoch+1}, loss = {loss.item():.4f}')\n",
    "        \n",
    "    #evalute the model\n",
    "with torch.no_grad():\n",
    "    y_pred_test = model(x_test)\n",
    "    #convert to class level, y_pred_test > 0 is 1 elese 0\n",
    "    y_pred_cls = y_pred_test.round()\n",
    "    acc = y_pred_cls.eq(y_test).sum()/ float(y_test.shape[0])\n",
    "\n",
    "    print(f'acc: {acc : .4f}')\n",
    "        "
   ]
  },
  {
   "cell_type": "code",
   "execution_count": null,
   "id": "6f0d80cc",
   "metadata": {},
   "outputs": [],
   "source": []
  },
  {
   "cell_type": "code",
   "execution_count": null,
   "id": "04e24de2",
   "metadata": {},
   "outputs": [],
   "source": []
  },
  {
   "cell_type": "code",
   "execution_count": null,
   "id": "89c07e93",
   "metadata": {},
   "outputs": [],
   "source": []
  }
 ],
 "metadata": {
  "kernelspec": {
   "display_name": "Python 3 (ipykernel)",
   "language": "python",
   "name": "python3"
  },
  "language_info": {
   "codemirror_mode": {
    "name": "ipython",
    "version": 3
   },
   "file_extension": ".py",
   "mimetype": "text/x-python",
   "name": "python",
   "nbconvert_exporter": "python",
   "pygments_lexer": "ipython3",
   "version": "3.8.11"
  }
 },
 "nbformat": 4,
 "nbformat_minor": 5
}
