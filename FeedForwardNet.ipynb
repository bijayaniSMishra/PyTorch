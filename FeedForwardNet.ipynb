{
  "nbformat": 4,
  "nbformat_minor": 0,
  "metadata": {
    "colab": {
      "name": "FeedForward.ipynb",
      "private_outputs": true,
      "provenance": [],
      "collapsed_sections": [],
      "machine_shape": "hm"
    },
    "kernelspec": {
      "name": "python3",
      "display_name": "Python 3"
    },
    "language_info": {
      "name": "python"
    },
    "accelerator": "GPU"
  },
  "cells": [
    {
      "cell_type": "markdown",
      "metadata": {
        "id": "lxrQQp6IenUA"
      },
      "source": [
        "#  Feed Forward Net \n",
        "100 Sample , batch size 20 -> no. of Iteration  = 100/20 =5 in one epoch\n",
        "MNIST Data set\n",
        "DataLoader, Transformation,\n",
        "Multilayer Neural Net, Activiation Function\n",
        "Loss and Optimizer\n",
        "Training Loop (batch Traning)\n",
        "Model Evaluation\n",
        "GPU support"
      ]
    },
    {
      "cell_type": "code",
      "metadata": {
        "id": "1ioEAYwNej1M"
      },
      "source": [
        "import torch \n",
        "import torch.nn as nn\n",
        "import torchvision\n",
        "import torchvision.transforms as transform\n",
        "from torch.utils.data import Dataset, DataLoader\n",
        "import numpy as np\n",
        "import matplotlib.pyplot as plt\n",
        "import math"
      ],
      "execution_count": null,
      "outputs": []
    },
    {
      "cell_type": "code",
      "metadata": {
        "id": "c61uJeKSeu-D"
      },
      "source": [
        "#device Config \n",
        "device  = torch.device('cuda' if not torch.cuda.is_available() else 'cpu')\n",
        "\n",
        "# Later we will push our tensor to the device, it will make sure if we have gpu then we use Cuda else CPU"
      ],
      "execution_count": null,
      "outputs": []
    },
    {
      "cell_type": "code",
      "metadata": {
        "id": "WCwzae0eewaD"
      },
      "source": [
        "#hyper Parameters\n",
        "input_size = 784 # our images will be 28 * 28 on flating them we will get 784\n",
        "hidden_size = 100 # random-> can be changed for better performance\n",
        "num_classes = 10 # for each digit \n",
        "num_epochs = 10\n",
        "batch_size = 100\n",
        "learning_rate = 0.001\n",
        "\n",
        "\n",
        "#Loading MNIST data \n",
        "train_dataset = torchvision.datasets.MNIST(root= './data', train = True, transform = transform.ToTensor(),\n",
        "                                          download=True)\n",
        "\n",
        "test_dataset = torchvision.datasets.MNIST(root= './data', train = False, transform = transform.ToTensor()) \n",
        "#why we dnt have to download the test_Dataset??\n",
        "\n",
        "train_loader = torch.utils.data.DataLoader(dataset= train_dataset, batch_size = batch_size, shuffle = True)\n",
        "\n",
        "test_loader = torch.utils.data.DataLoader(dataset= test_dataset, batch_size = batch_size, shuffle = False)\n"
      ],
      "execution_count": null,
      "outputs": []
    },
    {
      "cell_type": "code",
      "metadata": {
        "id": "pwtiE8v5eyJT"
      },
      "source": [
        "# Checking one batch\n",
        "example = iter(train_loader)\n",
        "samples, labels = example.next()\n",
        "print(samples.shape, labels.shape)"
      ],
      "execution_count": null,
      "outputs": []
    },
    {
      "cell_type": "code",
      "metadata": {
        "id": "4nL49lZafD7P"
      },
      "source": [
        ""
      ],
      "execution_count": null,
      "outputs": []
    },
    {
      "cell_type": "markdown",
      "metadata": {
        "id": "LpSJ4b6SrPc_"
      },
      "source": [
        "\n",
        "\n",
        "```\n",
        "100 samples\n",
        "1 -> channel not 3 for RGB\n",
        "28 * 28 is size of image \n",
        "```\n",
        "\n"
      ]
    },
    {
      "cell_type": "code",
      "metadata": {
        "id": "UZdkMHyZh2Mq"
      },
      "source": [
        "for i in range(6):\n",
        "  plt.subplot(2,3,i+1)\n",
        "  plt.imshow(samples[i][0],cmap = 'gray')\n",
        "  plt.show"
      ],
      "execution_count": null,
      "outputs": []
    },
    {
      "cell_type": "code",
      "metadata": {
        "id": "89Uh_Btpsmb4"
      },
      "source": [
        "#Classifier - Fully Connnected NN with one hidden Layer\n",
        "\n",
        "class NeuralNet(nn.Module):\n",
        "  def __init__(self, input_size, hidden_size, num_classes):\n",
        "    super(NeuralNet, self).__init__()\n",
        "    self.l1 =nn.Linear(input_size, hidden_size)\n",
        "    self.relu = nn.ReLU()\n",
        "    self.l2 = nn.Linear(hidden_size, num_classes)\n",
        "  \n",
        "  def forward(self, x):\n",
        "    out = self.l1(x)\n",
        "    out = self.relu(out)\n",
        "    out = self.l2(out)\n",
        "\n",
        "    #Since for this multiClass Problem we are going to use Cross Entropy as loss so, We dnt have to use softmax function as the final layer.\n",
        "\n",
        "    return"
      ],
      "execution_count": null,
      "outputs": []
    },
    {
      "cell_type": "code",
      "metadata": {
        "id": "FO5gVRzJsxZ4"
      },
      "source": [
        "model = NeuralNet(input_size, hidden_size, num_classes)"
      ],
      "execution_count": null,
      "outputs": []
    },
    {
      "cell_type": "code",
      "metadata": {
        "id": "PVcK8zQsuoXK"
      },
      "source": [
        "#loss and Optimizer\n",
        "criterion = nn.CrossEntropyLoss()\n",
        "\n",
        "optimizer = torch.optim.Adam(model.parameters(), lr = learning_rate)"
      ],
      "execution_count": null,
      "outputs": []
    },
    {
      "cell_type": "code",
      "metadata": {
        "id": "uOKtSY8jvVh6"
      },
      "source": [
        "#Training Loop\n",
        "n_total_steps =  len(train_loader)\n",
        "\n",
        "for epoch in range(num_epochs):\n",
        "\n",
        "  for i, (images, labels) in enumerate(train_loader):\n",
        "    #Reshape the images -> currently the shape of image is 100, 1, 28, 28 but we have set out input size as 784 so with 100 sample our images shape should be 100, 784\n",
        "    #print(images.shape)\n",
        "   # images = images.view(100, 784).to(device)\n",
        "    images =  images.reshape(-1, 28 *28)\n",
        "    # print(images.shape)\n",
        "    labels = labels.to(device)\n",
        "\n",
        "\n",
        "    #forward Pass\n",
        "    y_pred = model(images)\n",
        "\n",
        "    #loss\n",
        "    loss = criterion(y_pred, labels)\n",
        "   \n",
        "\n",
        "    #backward \n",
        "    loss.backward()\n",
        "\n",
        "    # updates the weights\n",
        "    optimizer.step(\n",
        "    optimizer.zero_grad()\n",
        "    \n",
        "    if (i+1) % 100 == 0:\n",
        "      print(f'epoch = {epoch + 1}/{num_epochs}, step = {i+1}/{n_total_steps}, loss = {loss.item():.4f}')"
      ],
      "execution_count": null,
      "outputs": []
    },
    {
      "cell_type": "code",
      "metadata": {
        "id": "CpBTEWc9vYrC"
      },
      "source": [
        "#test\n",
        "with torch.no_grad():\n",
        "  n_correct  =0 \n",
        "  n_sample = 0\n",
        "\n",
        "  for images, labels in test_loader:\n",
        "    images = images.view(100, 784).to(device)\n",
        "    labels = labels.to(device)\n",
        "    outputs = model(images) # model is now trained model\n",
        "    #print(images)\n",
        "\n",
        "    #value , index\n",
        "    image,pred_label = torch.max(outputs,1)\n",
        "\n",
        "    n_sample  += labels.shape[0]\n",
        "    #print((pred_label == labels).sum().item())\n",
        "    n_correct += (pred_label == labels).sum().item()\n",
        "    \n",
        "  acc= 100.0 * n_correct/n_sample\n",
        "  print(f'accuracy = {acc} ')\n",
        "\n"
      ],
      "execution_count": null,
      "outputs": []
    },
    {
      "cell_type": "code",
      "metadata": {
        "id": "QpJwKBmN0Xpl"
      },
      "source": [
        ""
      ],
      "execution_count": null,
      "outputs": []
    }
  ]
}
